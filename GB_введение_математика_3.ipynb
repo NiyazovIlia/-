{
  "nbformat": 4,
  "nbformat_minor": 0,
  "metadata": {
    "colab": {
      "name": "GB-введение-математика-3.ipynb",
      "provenance": [],
      "collapsed_sections": [],
      "authorship_tag": "ABX9TyOJQlu1ElLNQLpx7wU7piQd",
      "include_colab_link": true
    },
    "kernelspec": {
      "name": "python3",
      "display_name": "Python 3"
    },
    "language_info": {
      "name": "python"
    }
  },
  "cells": [
    {
      "cell_type": "markdown",
      "metadata": {
        "id": "view-in-github",
        "colab_type": "text"
      },
      "source": [
        "<a href=\"https://colab.research.google.com/github/NiyazovIlia/Introduction-to-Mathematics/blob/lesson-3/GB_%D0%B2%D0%B2%D0%B5%D0%B4%D0%B5%D0%BD%D0%B8%D0%B5_%D0%BC%D0%B0%D1%82%D0%B5%D0%BC%D0%B0%D1%82%D0%B8%D0%BA%D0%B0_3.ipynb\" target=\"_parent\"><img src=\"https://colab.research.google.com/assets/colab-badge.svg\" alt=\"Open In Colab\"/></a>"
      ]
    },
    {
      "cell_type": "code",
      "metadata": {
        "id": "tCryAlcKiJGQ"
      },
      "source": [
        "import math\n",
        "from decimal import Decimal\n",
        "eps = 0.0000001\n",
        "lim = 1\n",
        "\n",
        "n = 2\n",
        "a2= 1\n",
        "\n",
        "while lim > eps:\n",
        "    a1 = a2\n",
        "    a2 = Decimal(n)/(Decimal(pow(math.factorial(n), Decimal(1/n))))\n",
        "    lim = abs(Decimal(a1)-a2)\n",
        "    n += 1\n",
        "print (f'Численное значение предела: {a2}\\n',f'Погрешность: {lim}\\n', f'Число шагов: {n-1}')"
      ],
      "execution_count": null,
      "outputs": []
    }
  ]
}